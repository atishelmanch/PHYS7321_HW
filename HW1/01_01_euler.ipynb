{
 "cells": [
  {
   "cell_type": "markdown",
   "metadata": {},
   "source": [
    "---\n",
    "author:\n",
    "- 'Adrian E. Feiguin'\n",
    "title: 'Computational Physics'\n",
    "...\n",
    "\n",
    "Ordinary differential equations\n",
    "=========================================\n",
    "\n",
    "Let’s consider a simple 1st order equation: \n",
    "$$\\frac{dy}{dx}=f(x,y)$$\n",
    "\n",
    "To solve this equation with a computer we need to **discretize** the differences: we\n",
    "have to convert the differential equation into a “**finite differences**” equation. The simplest\n",
    "solution is Euler’s method.\n",
    "\n",
    "Euler’s method\n",
    "--------------\n",
    "\n",
    "Supouse that at a point $x_0$, the function $f$ has a value $y_0$. We\n",
    "want to find the approximate value of $y$ in a point $x_1$ close to\n",
    "$x_0$, $x_1=x_0+\\Delta x$, with $\\Delta x$ small. We assume that $f$,\n",
    "the rate of change of $y$, is constant in this interval $\\Delta x$.\n",
    "Therefore we find: $$\\begin{eqnarray}\n",
    "&& dx \\approx \\Delta x &=&x_1-x_0, \\\\\n",
    "&& dy \\approx \\Delta y &=&y_1-y_0,\\end{eqnarray}$$ with\n",
    "$y_1=y(x_1)=y(x_0+\\Delta x)$. Then we re-write the differential equation in terms of discrete differences as:\n",
    "$$\\frac{\\Delta y}{\\Delta x}=f(x,y)$$ or \n",
    "$$\\Delta y = f(x,y)\\Delta x$$\n",
    "and approximate the value of $y_1$ as\n",
    "$$y_1=y_0+f(x_0,y_0)(x_1-x_0)$$ We can generalize this formula to find\n",
    "the value of $y$ at $x_2=x_1+\\Delta x$ as\n",
    "$$y_{2}=y_1+f(x_1,y_1)\\Delta x,$$ or in the general case:\n",
    "$$y_{n+1}=y_n+f(x_n,y_n)\\Delta x$$\n",
    "\n",
    "This is a good approximation as long as $\\Delta x$ is “small”. What is\n",
    "small? Depends on the problem, but it is basically defined by the “rate\n",
    "of change”, or “smoothness” of $f$. $f(x)$ has to behave smoothly and\n",
    "without rapid variations in the interval $\\Delta x$.\n",
    "\n",
    "Notice that Euler’s method is equivalent to a 1st order Taylor expansion\n",
    "about the point $x_0$. The “local error” calculating $x_1$ is then\n",
    "$O(\\Delta x^2)$. If we use the method $N$ times to calculate $N$\n",
    "consecutive points, the propagated “global” error will be\n",
    "$NO(\\Delta x^2)\\approx O(\\Delta \n",
    "x)$. This error decreases linearly with decreasing step, so we need to\n",
    "halve the step size to reduce the error in half. The numerical work for\n",
    "each step consists of a single evaluation of $f$."
   ]
  },
  {
   "cell_type": "markdown",
   "metadata": {},
   "source": [
    "### Exercise 1.1: Newton’s law of cooling \n",
    "\n",
    "If the temperature difference between an object and its surroundings is\n",
    "small, the rate of change of the temperature of the object is\n",
    "proportional to the temperature difference: $$\\frac{dT}{dt}=-r(T-T_s),$$\n",
    "where $T$ is the temperature of the body, $T_s$ is the temperature of\n",
    "the environment, and $r$ is a “cooling constant” that depends on the\n",
    "heat transfer mechanism, the contact area with the environment and the\n",
    "thermal properties of the body. The minus sign appears because if\n",
    "$T>T_s$, the temperature must decrease.\n",
    "\n",
    "Write a program to calculate the temperature of a body at a time $t$,\n",
    "given the cooling constant $r$ and the temperature of the body at time\n",
    "$t=0$. Plot the results for $r=0.1\\frac{1}{min}$; $T_s=83^{\\circ} C$, $T_0=10^{\\circ}$\n",
    "using different intervals $\\Delta t$ and compare with exact (analytical)\n",
    "results."
   ]
  },
  {
   "cell_type": "code",
   "execution_count": 19,
   "metadata": {
    "collapsed": true
   },
   "outputs": [],
   "source": [
    "# 9/18/17\n",
    "# Like Euler above, but now f(x) = -r(T-T0)\n",
    "\n",
    "T0 = 10.   # initial temperature\n",
    "Ts = 83.   # temp. of the environment\n",
    "r = 0.1    # cooling rate\n",
    "dt = 0.05  # time step\n",
    "tmax = 60. # maximum time\n",
    "nsteps = int(tmax/dt)  # number of steps"
   ]
  },
  {
   "cell_type": "code",
   "execution_count": 20,
   "metadata": {
    "collapsed": true,
    "scrolled": false
   },
   "outputs": [],
   "source": [
    "T = T0\n",
    "for i in range(1,nsteps+1):\n",
    "    new_T = T - r*(T-Ts)*dt\n",
    "    T = new_T\n",
    "    "
   ]
  },
  {
   "cell_type": "markdown",
   "metadata": {},
   "source": [
    "Let's try plotting the results. We first need to import the required libraries and methods"
   ]
  },
  {
   "cell_type": "code",
   "execution_count": 21,
   "metadata": {
    "collapsed": true
   },
   "outputs": [],
   "source": [
    "%matplotlib inline\n",
    "import numpy as np #Allows the use of arrays\n",
    "from matplotlib import pyplot "
   ]
  },
  {
   "cell_type": "markdown",
   "metadata": {},
   "source": [
    "Next, we create numpy arrays to store the (x,y) values "
   ]
  },
  {
   "cell_type": "code",
   "execution_count": 22,
   "metadata": {
    "collapsed": true
   },
   "outputs": [],
   "source": [
    "my_time = np.zeros(nsteps)\n",
    "my_temp = np.zeros(nsteps)"
   ]
  },
  {
   "cell_type": "markdown",
   "metadata": {},
   "source": [
    "We have to re write the loop to store the values in the arrays. Remember that numpy arrays start from 0."
   ]
  },
  {
   "cell_type": "code",
   "execution_count": 23,
   "metadata": {
    "collapsed": true
   },
   "outputs": [],
   "source": [
    "T = T0\n",
    "my_temp[0] = T0\n",
    "for i in range(1,nsteps):\n",
    "    T = T - r*(T-Ts)*dt\n",
    "    my_time[i] = i*dt # Fill ith array cell with incremented t\n",
    "    my_temp[i] = T # Fill ith array cell with incremented T"
   ]
  },
  {
   "cell_type": "code",
   "execution_count": 24,
   "metadata": {},
   "outputs": [
    {
     "data": {
      "image/png": "[encoded data removed]",
      "text/plain": [
       "<matplotlib.figure.Figure at 0x7f713578ebd0>"
      ]
     },
     "metadata": {},
     "output_type": "display_data"
    }
   ],
   "source": [
    "pyplot.plot(my_time, my_temp, color='#003366', ls='-', lw=3) \n",
    "pyplot.xlabel('time')\n",
    "pyplot.ylabel('temperature');"
   ]
  },
  {
   "cell_type": "markdown",
   "metadata": {},
   "source": [
    "We could have saved effort by defining"
   ]
  },
  {
   "cell_type": "code",
   "execution_count": 25,
   "metadata": {
    "collapsed": true
   },
   "outputs": [],
   "source": [
    "my_time = np.linspace(0.,tmax,nsteps) # a way to define an array"
   ]
  },
  {
   "cell_type": "code",
   "execution_count": 26,
   "metadata": {},
   "outputs": [
    {
     "data": {
      "image/png": "[encoded data removed]",
      "text/plain": [
       "<matplotlib.figure.Figure at 0x7f71357a34d0>"
      ]
     },
     "metadata": {},
     "output_type": "display_data"
    }
   ],
   "source": [
    "pyplot.plot(my_time, my_temp, color='#003366', ls='-', lw=3) # color = red green blue (think order correct) each has range from ~ 0 to 25\n",
    "pyplot.xlabel('time')\n",
    "pyplot.ylabel('temperature');"
   ]
  },
  {
   "cell_type": "markdown",
   "metadata": {},
   "source": [
    "Alternatively, and in order to re use code in future problems, we could have created a function."
   ]
  },
  {
   "cell_type": "code",
   "execution_count": 27,
   "metadata": {
    "collapsed": true
   },
   "outputs": [],
   "source": [
    "def euler(y, f, dx):\n",
    "    \"\"\"Computes y_new = y + f*dx\n",
    "    \n",
    "    Parameters\n",
    "    ----------\n",
    "    y  : float\n",
    "        old value of y_n at x_n\n",
    "    f  : float\n",
    "        first derivative f(x,y) evaluated at (x_n,y_n)\n",
    "    dx : float\n",
    "        x step\n",
    "    \"\"\"\n",
    "    \n",
    "    return y + f*dx"
   ]
  },
  {
   "cell_type": "code",
   "execution_count": 28,
   "metadata": {
    "collapsed": true
   },
   "outputs": [],
   "source": [
    "T = T0\n",
    "for i in range(1,nsteps):\n",
    "    T = euler(T, -r*(T-Ts), dt) # Incrementing T value with Euler defined function\n",
    "    my_temp[i] = T\n"
   ]
  },
  {
   "cell_type": "markdown",
   "metadata": {
    "collapsed": true
   },
   "source": [
    "Actually, for this particularly simple case, calling a function may introduce unecessary overhead, but it is an example that we will find useful for future applications. For a simple function like this we could have used a \"lambda\" function (more about lambda functions <a href=\"http://www.secnetix.de/olli/Python/lambda_functions.hawk\">here</a>)."
   ]
  },
  {
   "cell_type": "code",
   "execution_count": 29,
   "metadata": {
    "collapsed": true
   },
   "outputs": [],
   "source": [
    "euler = lambda y, f, dx: y + f*dx "
   ]
  },
  {
   "cell_type": "markdown",
   "metadata": {},
   "source": [
    "Now, let's study the effects of different time steps on the convergence:"
   ]
  },
  {
   "cell_type": "code",
   "execution_count": 30,
   "metadata": {},
   "outputs": [
    {
     "data": {
      "image/png": "[encoded data removed]",
      "text/plain": [
       "<matplotlib.figure.Figure at 0x7f713573e9d0>"
      ]
     },
     "metadata": {},
     "output_type": "display_data"
    }
   ],
   "source": [
    "dt = 1.\n",
    "#my_color = ['#003366','#663300','#660033','#330066']\n",
    "my_color = ['red', 'green', 'blue', 'black']\n",
    "for j in range(0,4):\n",
    "    nsteps = int(tmax/dt)    #the arrays will have different size for different time steps\n",
    "    my_time = np.linspace(dt,tmax,nsteps) # Good shortcut for Time array\n",
    "    my_temp = np.zeros(nsteps) # Initializing Temperature Array\n",
    "    T = T0\n",
    "    for i in range(1,nsteps):\n",
    "        T = euler(T, -r*(T-Ts), dt)\n",
    "        my_temp[i] = T # Filling Temperature array with Euler increments\n",
    "        \n",
    "    pyplot.plot(my_time, my_temp, color=my_color[j], ls='-', lw=3) #Plotting T vs. t for dt\n",
    "    dt = dt/2. #Updating dt, repeat process.\n",
    "\n",
    "pyplot.xlabel('time'); #The semicolon avoids something \n",
    "pyplot.ylabel('temperature');\n",
    "pyplot.xlim(8,10);\n",
    "pyplot.ylim(48,58);"
   ]
  },
  {
   "cell_type": "markdown",
   "metadata": {},
   "source": [
    "### Challenge 1.1\n",
    "\n",
    "To properly study convergence, one possibility it to look at the result at a given time, for different time steps. Modify the previous program to print the temperature at $t=10$ as a function of $\\Delta t$. "
   ]
  },
  {
   "cell_type": "code",
   "execution_count": 31,
   "metadata": {},
   "outputs": [
    {
     "name": "stdout",
     "output_type": "stream",
     "text": [
      "In loop\n",
      "54.718304303\n",
      "In loop\n",
      "55.4531870149\n",
      "In loop\n",
      "55.8041352699\n",
      "In loop\n",
      "55.9757220097\n",
      "In loop\n",
      "56.0605710949\n",
      "In loop\n",
      "56.1027628999\n",
      "In loop\n",
      "56.1238010279\n",
      "In loop\n",
      "56.1343056992\n",
      "In loop\n",
      "56.1395544429\n",
      "In loop\n",
      "56.1421779176\n"
     ]
    },
    {
     "data": {
      "image/png": "[encoded data removed]",
      "text/plain": [
       "<matplotlib.figure.Figure at 0x7f713573e950>"
      ]
     },
     "metadata": {},
     "output_type": "display_data"
    }
   ],
   "source": [
    "#--------------------------------------\n",
    "#\n",
    "# Without Runge-Kutta\n",
    "#\n",
    "#--------------------------------------\n",
    "from math import log10\n",
    "dt = 1.\n",
    "\n",
    "iterations = 10\n",
    "dt_array = np.zeros(iterations)\n",
    "T_at_ten_array = np.zeros(iterations)\n",
    "\n",
    "\n",
    "for j in range(0,iterations):\n",
    "    \n",
    "    dt_array[j] = dt\n",
    "    \n",
    "    nsteps = int(tmax/dt)    #the arrays will have different size for different time steps\n",
    "    my_time = np.linspace(dt,tmax,nsteps) # Good shortcut for Time array\n",
    "    my_temp = np.zeros(nsteps) # Initializing Temperature Array\n",
    "    T = T0\n",
    "    for i in range(1,nsteps):\n",
    "        T = euler(T, -r*(T-Ts), dt)\n",
    "        my_temp[i] = T # Filling Temperature array with Euler increments\n",
    "        if (my_time[i] == 10.):\n",
    "            print (\"In loop\")\n",
    "            print (my_temp[i])\n",
    "            #T_at_ten_array[j] = log10(my_temp[i])\n",
    "            T_at_ten_array[j] = my_temp[i]\n",
    "            #print (T_at_ten_array[j])\n",
    "    dt = dt/2.\n",
    "\n",
    "pyplot.plot(dt_array, T_at_ten_array, color = 'red', ls = '-', lw = 3)\n",
    "pyplot.xlabel('dt'); #The semicolon avoids something \n",
    "pyplot.ylabel('Temp at 10 sec');"
   ]
  },
  {
   "cell_type": "code",
   "execution_count": 37,
   "metadata": {
    "scrolled": false
   },
   "outputs": [
    {
     "name": "stdout",
     "output_type": "stream",
     "text": [
      "In loop\n",
      "53.3203906424\n",
      "In loop\n",
      "54.7679038315\n",
      "In loop\n",
      "55.4649581007\n",
      "In loop\n",
      "55.8070039671\n",
      "In loop\n",
      "55.976430189\n",
      "In loop\n",
      "56.0607470313\n",
      "In loop\n",
      "56.1028067464\n",
      "In loop\n",
      "56.1238119724\n",
      "In loop\n",
      "56.1343084331\n",
      "In loop\n",
      "56.1395551261\n"
     ]
    },
    {
     "data": {
      "text/plain": [
       "<matplotlib.text.Text at 0x7f71358a8d90>"
      ]
     },
     "execution_count": 37,
     "metadata": {},
     "output_type": "execute_result"
    },
    {
     "data": {
      "image/png": "[encoded data removed]",
      "text/plain": [
       "<matplotlib.figure.Figure at 0x7f7135396b10>"
      ]
     },
     "metadata": {},
     "output_type": "display_data"
    }
   ],
   "source": [
    "#--------------------------------------\n",
    "#\n",
    "# With Runge-Kutta\n",
    "#\n",
    "#--------------------------------------\n",
    "\n",
    "#from math import log10\n",
    "\n",
    "dt = 1.\n",
    "\n",
    "# ln: Lambda functions\n",
    "# kn: Kutta order\n",
    "# jn: f(x,y) derivative function order\n",
    "# mn\n",
    "\n",
    "l1 = lambda dx, j1: dx*j1 \n",
    "l2 = lambda dx, j2: dx*j2 \n",
    "l3 = lambda dx, j3: dx*j3  \n",
    "l4 = lambda dx, j4: dx*j4 \n",
    "\n",
    "newT = lambda m_n, m1, m2, m3, m4: m_n + (m1 + 2*m2 + 2*m3 + m4)/(6.0)\n",
    "\n",
    "iterations = 10\n",
    "dt_array = np.zeros(iterations)\n",
    "T_at_ten_array = np.zeros(iterations)\n",
    "\n",
    "for j in range(0,iterations):\n",
    "    \n",
    "    #dt_array[j] = log10(dt)\n",
    "    dt_array[j] = dt\n",
    "    \n",
    "    nsteps = int(tmax/dt)    #the arrays will have different size for different time steps\n",
    "    my_time = np.linspace(dt,tmax,nsteps)#dt,tmax,nsteps) # Good shortcut for Time array\n",
    "    my_temp = np.zeros(nsteps) # Initializing Temperature Array\n",
    "    \n",
    "    T = T0\n",
    "    \n",
    "    for i in range(1,nsteps):\n",
    "        \n",
    "        # Need to repeat process for every time T is updated.\n",
    "        f1 = -r*(T-Ts)\n",
    "        k1 = l1(dt, f1)\n",
    "    \n",
    "        f2 = -r*((T+(k1/2))-Ts)\n",
    "        k2 = l2(dt, f2)\n",
    "    \n",
    "        f3 = -r*((T+(k2/2))-Ts)\n",
    "        k3 = l3(dt, f3)\n",
    "    \n",
    "        f4 = -r*((T+k3)-Ts)\n",
    "        k4 = l4(dt, f4)\n",
    "        \n",
    "        T = newT(T, k1, k2, k3, k4)\n",
    "        my_temp[i] = T # Filling Temperature array with Euler increments\n",
    "        if (my_time[i] == 10.):\n",
    "            print (\"In loop\")\n",
    "            print (my_temp[i])\n",
    "            #T_at_ten_array[j] = log10(my_temp[i])\n",
    "            T_at_ten_array[j] = my_temp[i]\n",
    "            #print (T_at_ten_array[j])\n",
    "    dt = dt/2.\n",
    "\n",
    "      \n",
    "    #pyplot.plot(my_time, my_temp, color=my_color[j], ls='-', lw=3) #Plotting T vs. t for dt\n",
    "    #dt = dt/2. #Updating dt, repeat process.\n",
    "pyplot.plot(dt_array, T_at_ten_array, color = 'red', ls = '-', lw = 3)\n",
    "pyplot.xlabel('dt (seconds)'); #The semicolon avoids something \n",
    "pyplot.ylabel('Temp at 10 Seconds (Degrees Celcius)')"
   ]
  },
  {
   "cell_type": "markdown",
   "metadata": {},
   "source": [
    "By looking at the printed T(t=10) values, it appears there is a convergence towards some value ~56.14 degrees Celcius, and the plotted trend is **not** linear."
   ]
  },
  {
   "cell_type": "code",
   "execution_count": null,
   "metadata": {
    "collapsed": true
   },
   "outputs": [],
   "source": []
  }
 ],
 "metadata": {
  "kernelspec": {
   "display_name": "Python 2",
   "language": "python",
   "name": "python2"
  },
  "language_info": {
   "codemirror_mode": {
    "name": "ipython",
    "version": 2
   },
   "file_extension": ".py",
   "mimetype": "text/x-python",
   "name": "python",
   "nbconvert_exporter": "python",
   "pygments_lexer": "ipython2",
   "version": "2.7.13"
  }
 },
 "nbformat": 4,
 "nbformat_minor": 1
}
